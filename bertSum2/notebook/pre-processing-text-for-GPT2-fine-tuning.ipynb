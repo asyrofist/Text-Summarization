{
  "nbformat": 4,
  "nbformat_minor": 0,
  "metadata": {
    "colab": {
      "name": "Input_preprocessing_May07_2020.ipynb",
      "provenance": [],
      "collapsed_sections": [
        "veqEx6zKiH-e",
        "48u40I-miLR4",
        "4oTRWXK6iRLx",
        "xmlytyNlYVjC"
      ],
      "mount_file_id": "1kz7xDdUUqIWkWmsVcGq-_Jy-xmpkWJMP",
      "authorship_tag": "ABX9TyPTu65H1K3sIMLtpdjmrlkj",
      "include_colab_link": true
    },
    "kernelspec": {
      "name": "python3",
      "display_name": "Python 3"
    },
    "widgets": {
      "application/vnd.jupyter.widget-state+json": {
        "00df931c3b7c49c982739a56d3adc420": {
          "model_module": "@jupyter-widgets/controls",
          "model_name": "HBoxModel",
          "state": {
            "_view_name": "HBoxView",
            "_dom_classes": [],
            "_model_name": "HBoxModel",
            "_view_module": "@jupyter-widgets/controls",
            "_model_module_version": "1.5.0",
            "_view_count": null,
            "_view_module_version": "1.5.0",
            "box_style": "",
            "layout": "IPY_MODEL_85db45a61a6340f994db7942fadb6138",
            "_model_module": "@jupyter-widgets/controls",
            "children": [
              "IPY_MODEL_b9b21ea1f39941a4ac34bdc06579bcda",
              "IPY_MODEL_50fcb4b4679f4bd5a289f3c84dc57680"
            ]
          }
        },
        "85db45a61a6340f994db7942fadb6138": {
          "model_module": "@jupyter-widgets/base",
          "model_name": "LayoutModel",
          "state": {
            "_view_name": "LayoutView",
            "grid_template_rows": null,
            "right": null,
            "justify_content": null,
            "_view_module": "@jupyter-widgets/base",
            "overflow": null,
            "_model_module_version": "1.2.0",
            "_view_count": null,
            "flex_flow": null,
            "width": null,
            "min_width": null,
            "border": null,
            "align_items": null,
            "bottom": null,
            "_model_module": "@jupyter-widgets/base",
            "top": null,
            "grid_column": null,
            "overflow_y": null,
            "overflow_x": null,
            "grid_auto_flow": null,
            "grid_area": null,
            "grid_template_columns": null,
            "flex": null,
            "_model_name": "LayoutModel",
            "justify_items": null,
            "grid_row": null,
            "max_height": null,
            "align_content": null,
            "visibility": null,
            "align_self": null,
            "height": null,
            "min_height": null,
            "padding": null,
            "grid_auto_rows": null,
            "grid_gap": null,
            "max_width": null,
            "order": null,
            "_view_module_version": "1.2.0",
            "grid_template_areas": null,
            "object_position": null,
            "object_fit": null,
            "grid_auto_columns": null,
            "margin": null,
            "display": null,
            "left": null
          }
        },
        "b9b21ea1f39941a4ac34bdc06579bcda": {
          "model_module": "@jupyter-widgets/controls",
          "model_name": "IntProgressModel",
          "state": {
            "_view_name": "ProgressView",
            "style": "IPY_MODEL_e20a6ed5237d40089181ebbf1f07a4db",
            "_dom_classes": [],
            "description": "Downloading: 100%",
            "_model_name": "IntProgressModel",
            "bar_style": "success",
            "max": 1042301,
            "_view_module": "@jupyter-widgets/controls",
            "_model_module_version": "1.5.0",
            "value": 1042301,
            "_view_count": null,
            "_view_module_version": "1.5.0",
            "orientation": "horizontal",
            "min": 0,
            "description_tooltip": null,
            "_model_module": "@jupyter-widgets/controls",
            "layout": "IPY_MODEL_b6882829b3c54fbe917f5d31c69e9c7e"
          }
        },
        "50fcb4b4679f4bd5a289f3c84dc57680": {
          "model_module": "@jupyter-widgets/controls",
          "model_name": "HTMLModel",
          "state": {
            "_view_name": "HTMLView",
            "style": "IPY_MODEL_145a409adaef41ed8d648aa817704e6e",
            "_dom_classes": [],
            "description": "",
            "_model_name": "HTMLModel",
            "placeholder": "​",
            "_view_module": "@jupyter-widgets/controls",
            "_model_module_version": "1.5.0",
            "value": " 1.04M/1.04M [00:00&lt;00:00, 2.38MB/s]",
            "_view_count": null,
            "_view_module_version": "1.5.0",
            "description_tooltip": null,
            "_model_module": "@jupyter-widgets/controls",
            "layout": "IPY_MODEL_7f0e1752f03a4046884737017db98a5f"
          }
        },
        "e20a6ed5237d40089181ebbf1f07a4db": {
          "model_module": "@jupyter-widgets/controls",
          "model_name": "ProgressStyleModel",
          "state": {
            "_view_name": "StyleView",
            "_model_name": "ProgressStyleModel",
            "description_width": "initial",
            "_view_module": "@jupyter-widgets/base",
            "_model_module_version": "1.5.0",
            "_view_count": null,
            "_view_module_version": "1.2.0",
            "bar_color": null,
            "_model_module": "@jupyter-widgets/controls"
          }
        },
        "b6882829b3c54fbe917f5d31c69e9c7e": {
          "model_module": "@jupyter-widgets/base",
          "model_name": "LayoutModel",
          "state": {
            "_view_name": "LayoutView",
            "grid_template_rows": null,
            "right": null,
            "justify_content": null,
            "_view_module": "@jupyter-widgets/base",
            "overflow": null,
            "_model_module_version": "1.2.0",
            "_view_count": null,
            "flex_flow": null,
            "width": null,
            "min_width": null,
            "border": null,
            "align_items": null,
            "bottom": null,
            "_model_module": "@jupyter-widgets/base",
            "top": null,
            "grid_column": null,
            "overflow_y": null,
            "overflow_x": null,
            "grid_auto_flow": null,
            "grid_area": null,
            "grid_template_columns": null,
            "flex": null,
            "_model_name": "LayoutModel",
            "justify_items": null,
            "grid_row": null,
            "max_height": null,
            "align_content": null,
            "visibility": null,
            "align_self": null,
            "height": null,
            "min_height": null,
            "padding": null,
            "grid_auto_rows": null,
            "grid_gap": null,
            "max_width": null,
            "order": null,
            "_view_module_version": "1.2.0",
            "grid_template_areas": null,
            "object_position": null,
            "object_fit": null,
            "grid_auto_columns": null,
            "margin": null,
            "display": null,
            "left": null
          }
        },
        "145a409adaef41ed8d648aa817704e6e": {
          "model_module": "@jupyter-widgets/controls",
          "model_name": "DescriptionStyleModel",
          "state": {
            "_view_name": "StyleView",
            "_model_name": "DescriptionStyleModel",
            "description_width": "",
            "_view_module": "@jupyter-widgets/base",
            "_model_module_version": "1.5.0",
            "_view_count": null,
            "_view_module_version": "1.2.0",
            "_model_module": "@jupyter-widgets/controls"
          }
        },
        "7f0e1752f03a4046884737017db98a5f": {
          "model_module": "@jupyter-widgets/base",
          "model_name": "LayoutModel",
          "state": {
            "_view_name": "LayoutView",
            "grid_template_rows": null,
            "right": null,
            "justify_content": null,
            "_view_module": "@jupyter-widgets/base",
            "overflow": null,
            "_model_module_version": "1.2.0",
            "_view_count": null,
            "flex_flow": null,
            "width": null,
            "min_width": null,
            "border": null,
            "align_items": null,
            "bottom": null,
            "_model_module": "@jupyter-widgets/base",
            "top": null,
            "grid_column": null,
            "overflow_y": null,
            "overflow_x": null,
            "grid_auto_flow": null,
            "grid_area": null,
            "grid_template_columns": null,
            "flex": null,
            "_model_name": "LayoutModel",
            "justify_items": null,
            "grid_row": null,
            "max_height": null,
            "align_content": null,
            "visibility": null,
            "align_self": null,
            "height": null,
            "min_height": null,
            "padding": null,
            "grid_auto_rows": null,
            "grid_gap": null,
            "max_width": null,
            "order": null,
            "_view_module_version": "1.2.0",
            "grid_template_areas": null,
            "object_position": null,
            "object_fit": null,
            "grid_auto_columns": null,
            "margin": null,
            "display": null,
            "left": null
          }
        },
        "64188a3772d14756812da53c325621b0": {
          "model_module": "@jupyter-widgets/controls",
          "model_name": "HBoxModel",
          "state": {
            "_view_name": "HBoxView",
            "_dom_classes": [],
            "_model_name": "HBoxModel",
            "_view_module": "@jupyter-widgets/controls",
            "_model_module_version": "1.5.0",
            "_view_count": null,
            "_view_module_version": "1.5.0",
            "box_style": "",
            "layout": "IPY_MODEL_a9b331f1e08d40559a063bc0e417143c",
            "_model_module": "@jupyter-widgets/controls",
            "children": [
              "IPY_MODEL_76138ff3c8214ae98714e8187b8b0207",
              "IPY_MODEL_ff32c363c0484835a3fd8b79f282bdd7"
            ]
          }
        },
        "a9b331f1e08d40559a063bc0e417143c": {
          "model_module": "@jupyter-widgets/base",
          "model_name": "LayoutModel",
          "state": {
            "_view_name": "LayoutView",
            "grid_template_rows": null,
            "right": null,
            "justify_content": null,
            "_view_module": "@jupyter-widgets/base",
            "overflow": null,
            "_model_module_version": "1.2.0",
            "_view_count": null,
            "flex_flow": null,
            "width": null,
            "min_width": null,
            "border": null,
            "align_items": null,
            "bottom": null,
            "_model_module": "@jupyter-widgets/base",
            "top": null,
            "grid_column": null,
            "overflow_y": null,
            "overflow_x": null,
            "grid_auto_flow": null,
            "grid_area": null,
            "grid_template_columns": null,
            "flex": null,
            "_model_name": "LayoutModel",
            "justify_items": null,
            "grid_row": null,
            "max_height": null,
            "align_content": null,
            "visibility": null,
            "align_self": null,
            "height": null,
            "min_height": null,
            "padding": null,
            "grid_auto_rows": null,
            "grid_gap": null,
            "max_width": null,
            "order": null,
            "_view_module_version": "1.2.0",
            "grid_template_areas": null,
            "object_position": null,
            "object_fit": null,
            "grid_auto_columns": null,
            "margin": null,
            "display": null,
            "left": null
          }
        },
        "76138ff3c8214ae98714e8187b8b0207": {
          "model_module": "@jupyter-widgets/controls",
          "model_name": "IntProgressModel",
          "state": {
            "_view_name": "ProgressView",
            "style": "IPY_MODEL_ff84acb0860444738090fb9eb2b3c1fc",
            "_dom_classes": [],
            "description": "Downloading: 100%",
            "_model_name": "IntProgressModel",
            "bar_style": "success",
            "max": 456318,
            "_view_module": "@jupyter-widgets/controls",
            "_model_module_version": "1.5.0",
            "value": 456318,
            "_view_count": null,
            "_view_module_version": "1.5.0",
            "orientation": "horizontal",
            "min": 0,
            "description_tooltip": null,
            "_model_module": "@jupyter-widgets/controls",
            "layout": "IPY_MODEL_8bef2254eeb7400b858cfcf786addc50"
          }
        },
        "ff32c363c0484835a3fd8b79f282bdd7": {
          "model_module": "@jupyter-widgets/controls",
          "model_name": "HTMLModel",
          "state": {
            "_view_name": "HTMLView",
            "style": "IPY_MODEL_7034c6dbe8f64e2f9fc2e4b9aade2710",
            "_dom_classes": [],
            "description": "",
            "_model_name": "HTMLModel",
            "placeholder": "​",
            "_view_module": "@jupyter-widgets/controls",
            "_model_module_version": "1.5.0",
            "value": " 456k/456k [00:00&lt;00:00, 3.03MB/s]",
            "_view_count": null,
            "_view_module_version": "1.5.0",
            "description_tooltip": null,
            "_model_module": "@jupyter-widgets/controls",
            "layout": "IPY_MODEL_1e6c607d7bb04c9285a7f31d497b5bc7"
          }
        },
        "ff84acb0860444738090fb9eb2b3c1fc": {
          "model_module": "@jupyter-widgets/controls",
          "model_name": "ProgressStyleModel",
          "state": {
            "_view_name": "StyleView",
            "_model_name": "ProgressStyleModel",
            "description_width": "initial",
            "_view_module": "@jupyter-widgets/base",
            "_model_module_version": "1.5.0",
            "_view_count": null,
            "_view_module_version": "1.2.0",
            "bar_color": null,
            "_model_module": "@jupyter-widgets/controls"
          }
        },
        "8bef2254eeb7400b858cfcf786addc50": {
          "model_module": "@jupyter-widgets/base",
          "model_name": "LayoutModel",
          "state": {
            "_view_name": "LayoutView",
            "grid_template_rows": null,
            "right": null,
            "justify_content": null,
            "_view_module": "@jupyter-widgets/base",
            "overflow": null,
            "_model_module_version": "1.2.0",
            "_view_count": null,
            "flex_flow": null,
            "width": null,
            "min_width": null,
            "border": null,
            "align_items": null,
            "bottom": null,
            "_model_module": "@jupyter-widgets/base",
            "top": null,
            "grid_column": null,
            "overflow_y": null,
            "overflow_x": null,
            "grid_auto_flow": null,
            "grid_area": null,
            "grid_template_columns": null,
            "flex": null,
            "_model_name": "LayoutModel",
            "justify_items": null,
            "grid_row": null,
            "max_height": null,
            "align_content": null,
            "visibility": null,
            "align_self": null,
            "height": null,
            "min_height": null,
            "padding": null,
            "grid_auto_rows": null,
            "grid_gap": null,
            "max_width": null,
            "order": null,
            "_view_module_version": "1.2.0",
            "grid_template_areas": null,
            "object_position": null,
            "object_fit": null,
            "grid_auto_columns": null,
            "margin": null,
            "display": null,
            "left": null
          }
        },
        "7034c6dbe8f64e2f9fc2e4b9aade2710": {
          "model_module": "@jupyter-widgets/controls",
          "model_name": "DescriptionStyleModel",
          "state": {
            "_view_name": "StyleView",
            "_model_name": "DescriptionStyleModel",
            "description_width": "",
            "_view_module": "@jupyter-widgets/base",
            "_model_module_version": "1.5.0",
            "_view_count": null,
            "_view_module_version": "1.2.0",
            "_model_module": "@jupyter-widgets/controls"
          }
        },
        "1e6c607d7bb04c9285a7f31d497b5bc7": {
          "model_module": "@jupyter-widgets/base",
          "model_name": "LayoutModel",
          "state": {
            "_view_name": "LayoutView",
            "grid_template_rows": null,
            "right": null,
            "justify_content": null,
            "_view_module": "@jupyter-widgets/base",
            "overflow": null,
            "_model_module_version": "1.2.0",
            "_view_count": null,
            "flex_flow": null,
            "width": null,
            "min_width": null,
            "border": null,
            "align_items": null,
            "bottom": null,
            "_model_module": "@jupyter-widgets/base",
            "top": null,
            "grid_column": null,
            "overflow_y": null,
            "overflow_x": null,
            "grid_auto_flow": null,
            "grid_area": null,
            "grid_template_columns": null,
            "flex": null,
            "_model_name": "LayoutModel",
            "justify_items": null,
            "grid_row": null,
            "max_height": null,
            "align_content": null,
            "visibility": null,
            "align_self": null,
            "height": null,
            "min_height": null,
            "padding": null,
            "grid_auto_rows": null,
            "grid_gap": null,
            "max_width": null,
            "order": null,
            "_view_module_version": "1.2.0",
            "grid_template_areas": null,
            "object_position": null,
            "object_fit": null,
            "grid_auto_columns": null,
            "margin": null,
            "display": null,
            "left": null
          }
        }
      }
    }
  },
  "cells": [
    {
      "cell_type": "markdown",
      "metadata": {
        "id": "view-in-github",
        "colab_type": "text"
      },
      "source": [
        "<a href=\"https://colab.research.google.com/github/VincentK1991/BERT_summarization_1/blob/master/notebook/pre-processing-text-for-GPT2-fine-tuning.ipynb\" target=\"_parent\"><img src=\"https://colab.research.google.com/assets/colab-badge.svg\" alt=\"Open In Colab\"/></a>"
      ]
    },
    {
      "cell_type": "markdown",
      "metadata": {
        "id": "veqEx6zKiH-e",
        "colab_type": "text"
      },
      "source": [
        "# Load Packages"
      ]
    },
    {
      "cell_type": "code",
      "metadata": {
        "id": "g_x9hmd3g9GN",
        "colab_type": "code",
        "colab": {}
      },
      "source": [
        "%cd '/content/drive/My Drive/Colab Notebooks/GPT-2/summarization_preprocessing'\n",
        "import numpy as np\n",
        "import pandas as pd\n",
        "import matplotlib.pyplot as plt\n",
        "import timeit\n",
        "\n",
        "import torch\n",
        "print(torch.__version__,' pytorch version')\n",
        "from torch.utils.data import DataLoader, TensorDataset, RandomSampler\n",
        "\n",
        "!pip install transformers==2.6.0"
      ],
      "execution_count": 0,
      "outputs": []
    },
    {
      "cell_type": "code",
      "metadata": {
        "id": "6EmmmOiUkJIJ",
        "colab_type": "code",
        "outputId": "0bfb811a-4291-4985-a6aa-560a8dea6815",
        "colab": {
          "base_uri": "https://localhost:8080/",
          "referenced_widgets": [
            "00df931c3b7c49c982739a56d3adc420",
            "85db45a61a6340f994db7942fadb6138",
            "b9b21ea1f39941a4ac34bdc06579bcda",
            "50fcb4b4679f4bd5a289f3c84dc57680",
            "e20a6ed5237d40089181ebbf1f07a4db",
            "b6882829b3c54fbe917f5d31c69e9c7e",
            "145a409adaef41ed8d648aa817704e6e",
            "7f0e1752f03a4046884737017db98a5f",
            "64188a3772d14756812da53c325621b0",
            "a9b331f1e08d40559a063bc0e417143c",
            "76138ff3c8214ae98714e8187b8b0207",
            "ff32c363c0484835a3fd8b79f282bdd7",
            "ff84acb0860444738090fb9eb2b3c1fc",
            "8bef2254eeb7400b858cfcf786addc50",
            "7034c6dbe8f64e2f9fc2e4b9aade2710",
            "1e6c607d7bb04c9285a7f31d497b5bc7"
          ]
        }
      },
      "source": [
        "import transformers\n",
        "print(transformers.__version__,' make sure transformers version is 2.6.0')\n",
        "from transformers import GPT2Tokenizer\n",
        "tokenizer = GPT2Tokenizer.from_pretrained('distilgpt2')\n",
        "special_tokens = {'bos_token':'<|startoftext|>','eos_token':'<|endoftext|>','pad_token':'<pad>','additional_special_tokens':['<|keyword|>','<|summarize|>']}\n",
        "tokenizer.add_special_tokens(special_tokens)\n",
        "print(len(tokenizer), 'total length of vocab')\n",
        "print(tokenizer.bos_token_id, 'bos_token')\n",
        "print(tokenizer.eos_token_id, 'eos_token')\n",
        "print(tokenizer.pad_token_id, 'pad_token')  #token for <pad>, len of all tokens in the tokenizer\n",
        "print(tokenizer.additional_special_tokens_ids[0], 'keyword_token') #token for <|keyword|>\n",
        "print(tokenizer.additional_special_tokens_ids[1], 'summary_token') #token for <|summarize|>"
      ],
      "execution_count": 0,
      "outputs": [
        {
          "output_type": "stream",
          "text": [
            "2.6.0  make sure transformers version is 2.6.0\n"
          ],
          "name": "stdout"
        },
        {
          "output_type": "display_data",
          "data": {
            "application/vnd.jupyter.widget-view+json": {
              "model_id": "00df931c3b7c49c982739a56d3adc420",
              "version_minor": 0,
              "version_major": 2
            },
            "text/plain": [
              "HBox(children=(IntProgress(value=0, description='Downloading', max=1042301, style=ProgressStyle(description_wi…"
            ]
          },
          "metadata": {
            "tags": []
          }
        },
        {
          "output_type": "stream",
          "text": [
            "\n"
          ],
          "name": "stdout"
        },
        {
          "output_type": "display_data",
          "data": {
            "application/vnd.jupyter.widget-view+json": {
              "model_id": "64188a3772d14756812da53c325621b0",
              "version_minor": 0,
              "version_major": 2
            },
            "text/plain": [
              "HBox(children=(IntProgress(value=0, description='Downloading', max=456318, style=ProgressStyle(description_wid…"
            ]
          },
          "metadata": {
            "tags": []
          }
        },
        {
          "output_type": "stream",
          "text": [
            "\n",
            "50261 total length of vocab\n",
            "50257 bos_token\n",
            "50256 eos_token\n",
            "50258 pad_token\n",
            "50259 keyword_token\n",
            "50260 summary_token\n"
          ],
          "name": "stdout"
        }
      ]
    },
    {
      "cell_type": "markdown",
      "metadata": {
        "id": "48u40I-miLR4",
        "colab_type": "text"
      },
      "source": [
        "# Load the dataset (before processing)\n",
        "\n",
        "reset index before running pre-processing so the columns will match up."
      ]
    },
    {
      "cell_type": "code",
      "metadata": {
        "id": "JQe9nMoMiQ_Q",
        "colab_type": "code",
        "colab": {}
      },
      "source": [
        "frame_dev = pd.read_csv('Copy_Copy_updated_COVID19_devdata_Apr25_2020.csv',index_col=0)"
      ],
      "execution_count": 0,
      "outputs": []
    },
    {
      "cell_type": "code",
      "metadata": {
        "id": "x9Tde8ZsE6ss",
        "colab_type": "code",
        "outputId": "11328b48-0ec2-46a2-e1bc-f41b48fc9b08",
        "colab": {
          "base_uri": "https://localhost:8080/"
        }
      },
      "source": [
        "frame_dev = frame_dev.reset_index()\n",
        "frame_dev.head(5)"
      ],
      "execution_count": 0,
      "outputs": [
        {
          "output_type": "execute_result",
          "data": {
            "text/html": [
              "<div>\n",
              "<style scoped>\n",
              "    .dataframe tbody tr th:only-of-type {\n",
              "        vertical-align: middle;\n",
              "    }\n",
              "\n",
              "    .dataframe tbody tr th {\n",
              "        vertical-align: top;\n",
              "    }\n",
              "\n",
              "    .dataframe thead th {\n",
              "        text-align: right;\n",
              "    }\n",
              "</style>\n",
              "<table border=\"1\" class=\"dataframe\">\n",
              "  <thead>\n",
              "    <tr style=\"text-align: right;\">\n",
              "      <th></th>\n",
              "      <th>index</th>\n",
              "      <th>sha</th>\n",
              "      <th>title</th>\n",
              "      <th>abstract</th>\n",
              "      <th>keyword_POS</th>\n",
              "      <th>keyword_NER</th>\n",
              "      <th>full_text_file</th>\n",
              "      <th>keyword_POS_str</th>\n",
              "    </tr>\n",
              "  </thead>\n",
              "  <tbody>\n",
              "    <tr>\n",
              "      <th>0</th>\n",
              "      <td>18799</td>\n",
              "      <td>d3f172114638130e814f81f946359556da900e0c</td>\n",
              "      <td>Fieber nach Tropenaufenthalt</td>\n",
              "      <td>Bei Fieber nach einem Tropenaufenthalt kommen ...</td>\n",
              "      <td>['Bei', 'Fieber', 'einem', 'Tropenaufenthalt',...</td>\n",
              "      <td>['Bei', 'nach', 'einem', 'kommen', 'viele', 'm...</td>\n",
              "      <td>custom_license</td>\n",
              "      <td>Bei Fieber einem Tropenaufenthalt kommen Erkra...</td>\n",
              "    </tr>\n",
              "    <tr>\n",
              "      <th>1</th>\n",
              "      <td>30112</td>\n",
              "      <td>7ac70544937971da0d91ef466686e9dc3fdd461b</td>\n",
              "      <td>Pathogenesis of Virus-Induced Demyelination</td>\n",
              "      <td>Publisher Summary Demyelination is a component...</td>\n",
              "      <td>['Publisher', 'Summary', 'Demyelination', 'is'...</td>\n",
              "      <td>['Publisher', 'is', 'a', 'component', 'of', 's...</td>\n",
              "      <td>custom_license</td>\n",
              "      <td>Publisher Summary Demyelination is component d...</td>\n",
              "    </tr>\n",
              "    <tr>\n",
              "      <th>2</th>\n",
              "      <td>5504</td>\n",
              "      <td>b2d2050a4b62e13a5c78e23190f61a7895ca33e2</td>\n",
              "      <td>Analysis of synonymous codon usage patterns in...</td>\n",
              "      <td>Synonymous codon usage bias (CUB) is a defined...</td>\n",
              "      <td>['codon', 'usage', 'bias', 'CUB', 'is', 'usage...</td>\n",
              "      <td>['Synonymous', 'codon', 'usage', 'bias', 'CUB'...</td>\n",
              "      <td>comm_use_subset</td>\n",
              "      <td>codon usage bias CUB is usage codons amino aci...</td>\n",
              "    </tr>\n",
              "    <tr>\n",
              "      <th>3</th>\n",
              "      <td>13902</td>\n",
              "      <td>e376a4c9ab21f569e4c61dacc4e98cf04c05e848</td>\n",
              "      <td>BrainStem Encephalitis Associated with Chandip...</td>\n",
              "      <td>Clinical data of 104 hospitalized children dur...</td>\n",
              "      <td>['data', 'children', 'epidemic', 'encephalitis...</td>\n",
              "      <td>['Clinical', 'data', 'of', '104', 'hospitalize...</td>\n",
              "      <td>custom_license</td>\n",
              "      <td>data children epidemic encephalitis Andhra Pra...</td>\n",
              "    </tr>\n",
              "    <tr>\n",
              "      <th>4</th>\n",
              "      <td>23896</td>\n",
              "      <td>483e7cca05d9d7f861d2b6eddca54b686858122d</td>\n",
              "      <td>Evaluation of echinacea for the prevention and...</td>\n",
              "      <td>Summary Echinacea is one of the most commonly ...</td>\n",
              "      <td>['Summary', 'Echinacea', 'is', 'herbal', 'prod...</td>\n",
              "      <td>['Summary', 'is', 'one', 'of', 'the', 'most', ...</td>\n",
              "      <td>custom_license</td>\n",
              "      <td>Summary Echinacea is herbal products controver...</td>\n",
              "    </tr>\n",
              "  </tbody>\n",
              "</table>\n",
              "</div>"
            ],
            "text/plain": [
              "   index  ...                                    keyword_POS_str\n",
              "0  18799  ...  Bei Fieber einem Tropenaufenthalt kommen Erkra...\n",
              "1  30112  ...  Publisher Summary Demyelination is component d...\n",
              "2   5504  ...  codon usage bias CUB is usage codons amino aci...\n",
              "3  13902  ...  data children epidemic encephalitis Andhra Pra...\n",
              "4  23896  ...  Summary Echinacea is herbal products controver...\n",
              "\n",
              "[5 rows x 8 columns]"
            ]
          },
          "metadata": {
            "tags": []
          },
          "execution_count": 16
        }
      ]
    },
    {
      "cell_type": "markdown",
      "metadata": {
        "id": "4oTRWXK6iRLx",
        "colab_type": "text"
      },
      "source": [
        "# Helper Function\n",
        "\n",
        "These 8 functions are\n",
        "1. read the dataframe, \n",
        "\n",
        "  - Note here that the 0th element in list always the correct pairs \n",
        "\n",
        "2. tokenize the input and return a list of tokens\n",
        "3. create a segment tokens (either keyword, summary, or padding segment)\n",
        "4. write the label for the lm head (only on the correct pair; i.e. the 0th element of the list; else where is masked with [-100] token to prevent the model from computing cross entropy loss).\n",
        "5. return the last token before padding (i.e. the <|endoftext|>) (this is recognized by the mc head for the multiple choice loss)\n",
        "6. return [1,0,0,0] because the correct pair is always the 0th element of the list\n",
        "\n",
        "7. shuffle the tuple. After this the correct pair can be any element. return numpy array\n",
        "\n",
        "8. create a tensor object from the numpy array"
      ]
    },
    {
      "cell_type": "code",
      "metadata": {
        "id": "gzy4NVdMo4Sc",
        "colab_type": "code",
        "colab": {}
      },
      "source": [
        "def load_words(df, num,with_title = False):\n",
        "  \"\"\"import dataframe with number of what sample to choose,\n",
        "  return a keyword (together with title or not) as strings\n",
        "  and abstract (gold label for summarization).\n",
        "  and 3 distractors. all as a tuple of 5 strings\"\"\"\n",
        "  arr_distract = np.random.randint(len(df), size=3)\n",
        "  keyword = df['keyword_POS_str'][num]\n",
        "  if with_title:\n",
        "    title = df['title'][num]\n",
        "    keyword = title + keyword\n",
        "  abstract = df['abstract'][num]\n",
        "  distract1 = df['abstract'][arr_distract[0]]\n",
        "  distract2 = df['abstract'][arr_distract[1]]\n",
        "  distract3 = df['abstract'][arr_distract[2]]\n",
        "\n",
        "  return (keyword,abstract,distract1,distract2,distract3)"
      ],
      "execution_count": 0,
      "outputs": []
    },
    {
      "cell_type": "code",
      "metadata": {
        "id": "dNCLKdTxFblQ",
        "colab_type": "code",
        "colab": {}
      },
      "source": [
        "key_batch = load_words(frame_dev,30)"
      ],
      "execution_count": 0,
      "outputs": []
    },
    {
      "cell_type": "code",
      "metadata": {
        "id": "2DcZRIWxRvuW",
        "colab_type": "code",
        "outputId": "df7992e6-8f74-43a1-c8d8-955bb19fc749",
        "colab": {
          "base_uri": "https://localhost:8080/"
        }
      },
      "source": [
        "key_batch"
      ],
      "execution_count": 0,
      "outputs": [
        {
          "output_type": "execute_result",
          "data": {
            "text/plain": [
              "(nan,\n",
              " 'Unknown',\n",
              " 'The intracellular expression of antibodies or antibody fragments (intrabodies) in different compartments of mammalian cells allows to block or modulate the function of endogenous molecules. Intrabodies can alter protein folding, protein-protein, protein-DNA, protein-RNA interactions and protein modification. They can induce a phenotypic knockout and work as neutralizing agents by direct binding to the target antigen, by diverting its intracellular traffic or by inhibiting its association with binding partners. They have been largely employed as research tools and are emerging as therapeutic molecules for the treatment of human diseases as viral pathologies, cancer and misfolding diseases. The fast growing bio-market of recombinant antibodies provides intrabodies with enhanced binding specificity, stability and solubility, together with lower immunogenicity, for their use in therapy. This chapter describes the crucial aspects required to express intrabodies in different intracellular compartments of mammalian cells, their various modes of action and gives an update on the applications of intrabodies in human diseases.',\n",
              " 'Severe acute respiratory syndrome (SARS) is an infectious disease caused by a novel coronavirus that cost nearly 800 lives. While there have been no recent outbreaks of the disease, the threat remains as SARS coronavirus (SARS-CoV) like strains still exist in animal reservoirs. Therefore, the development of a vaccine against SARS is in grave need. Here, we have designed and produced a prototypic SARS vaccine: a self-assembling polypeptide nanoparticle that repetitively displays a SARS B-cell epitope from the C-terminal heptad repeat of the virus’ spike protein. Biophysical analyses with circular dichroism, transmission electron microscopy and dynamic light scattering confirmed the computational design showing α-helcial nanoparticles with sizes of about 25 nm. Immunization experiments with no adjuvants were performed with BALB/c mice. An investigation of the binding properties of the elicited antibodies showed that they were highly conformation specific for the coiled-coil epitope because they specifically recognized the native trimeric conformation of C-terminal heptad repeat region. Consequently, the antisera exhibited neutralization activity in an in vitro infection inhibition assay. We conclude that these peptide nanoparticles represent a promising platform for vaccine design, in particular for diseases that are characterized by neutralizing epitopes with coiled-coil conformation such as SARS-CoV or other enveloped viruses.',\n",
              " 'This commentary offers suggestions for improving public health and public health education by emphasizing One Health principles, the integrating of human, veterinary, and environmental sciences. One Health is increasingly recognized as a powerful approach to the prevention and control of zoonotic diseases, increasing food productivity and safety, improving biosecurity, and enhancing many areas of biomedical research.')"
            ]
          },
          "metadata": {
            "tags": []
          },
          "execution_count": 60
        }
      ]
    },
    {
      "cell_type": "code",
      "metadata": {
        "id": "x4rJfVeDiUVc",
        "colab_type": "code",
        "colab": {}
      },
      "source": [
        "def write_input_ids(word_batch,max_len=1024):\n",
        "  \"\"\"return list of input tokens\"\"\"\n",
        "  key, abstract, dis1,dis2,dis3 = word_batch\n",
        "\n",
        "  input_true = tokenizer.encode('<|startoftext|> ' + key + ' <|summarize|> '+ abstract + ' <|endoftext|>',max_length = tokenizer.max_len)\n",
        "  input_dis1 = tokenizer.encode('<|startoftext|> ' + key + ' <|summarize|> '+ dis1 + ' <|endoftext|>',max_length = tokenizer.max_len)\n",
        "  input_dis2 = tokenizer.encode('<|startoftext|> ' + key + ' <|summarize|> '+ dis2 + ' <|endoftext|>',max_length = tokenizer.max_len)\n",
        "  input_dis3 = tokenizer.encode('<|startoftext|> ' + key + ' <|summarize|> '+ dis3 + ' <|endoftext|>',max_length = tokenizer.max_len)\n",
        "  \n",
        "  if max_len == None:\n",
        "    max_len = max(len(input_true),len(input_dis1),len(input_dis2),len(input_dis3))\n",
        "  for i in [input_true,input_dis1,input_dis2,input_dis3]:\n",
        "    while len(i) < max_len:\n",
        "      i.append(tokenizer.pad_token_id)\n",
        "  list_input_token = [input_true,input_dis1,input_dis2,input_dis3]\n",
        "  return list_input_token"
      ],
      "execution_count": 0,
      "outputs": []
    },
    {
      "cell_type": "code",
      "metadata": {
        "id": "uMBk04uwiUeT",
        "colab_type": "code",
        "colab": {}
      },
      "source": [
        "def write_token_type_labels(list_input_ids,max_len=1024):\n",
        "  list_segment = []\n",
        "  for item in list_input_ids:\n",
        "    try:\n",
        "      item.index(tokenizer.eos_token_id)\n",
        "    except:\n",
        "      item[-1] = tokenizer.eos_token_id\n",
        "    num_seg_a = item.index(tokenizer.additional_special_tokens_ids[1]) + 1\n",
        "    end_index = item.index(tokenizer.eos_token_id)\n",
        "    num_seg_b = end_index - num_seg_a + 1\n",
        "    num_pad = max_len - end_index - 1\n",
        "    segment_ids = [tokenizer.additional_special_tokens_ids[0]]*num_seg_a + [tokenizer.additional_special_tokens_ids[1]]*num_seg_b + [tokenizer.pad_token_id]*num_pad\n",
        "    list_segment.append(segment_ids)\n",
        "  return list_segment"
      ],
      "execution_count": 0,
      "outputs": []
    },
    {
      "cell_type": "code",
      "metadata": {
        "id": "4zzwGeSDiitz",
        "colab_type": "code",
        "colab": {}
      },
      "source": [
        "def write_lm_labels(list_input_ids,list_type_labels):\n",
        "  list_lm_label = []\n",
        "  is_true_label = True\n",
        "  for input_tokens,segments in zip(list_input_ids,list_type_labels):\n",
        "    if is_true_label:\n",
        "      is_true_label = False\n",
        "      temp_list = []\n",
        "      for token,segment in zip(input_tokens,segments):\n",
        "        if segment == tokenizer.additional_special_tokens_ids[1]:\n",
        "          temp_list.append(token)\n",
        "        else:\n",
        "          temp_list.append(-100)\n",
        "      list_lm_label.append(temp_list)\n",
        "    else:\n",
        "      temp_list = [-100]*len(input_tokens)\n",
        "      list_lm_label.append(temp_list)\n",
        "  return list_lm_label"
      ],
      "execution_count": 0,
      "outputs": []
    },
    {
      "cell_type": "code",
      "metadata": {
        "id": "qLLQWSmXitcK",
        "colab_type": "code",
        "colab": {}
      },
      "source": [
        "def write_last_token(list_input_ids):\n",
        "  list_mc_token = []\n",
        "  for item in list_input_ids:\n",
        "    list_mc_token.append(item.index(tokenizer.eos_token_id))\n",
        "  return list_mc_token"
      ],
      "execution_count": 0,
      "outputs": []
    },
    {
      "cell_type": "code",
      "metadata": {
        "id": "FwF72ZSCifVF",
        "colab_type": "code",
        "colab": {}
      },
      "source": [
        "def write_mc_label():\n",
        "  return [1,0,0,0]"
      ],
      "execution_count": 0,
      "outputs": []
    },
    {
      "cell_type": "code",
      "metadata": {
        "id": "fsVlgpgzifd1",
        "colab_type": "code",
        "colab": {}
      },
      "source": [
        "def shuffle_batch(list_input_ids,list_type_labels,list_last_tokens,list_lm_labels,list_mc_labels):\n",
        "  array_input_token = np.array(list_input_ids)\n",
        "  array_segment = np.array(list_type_labels)\n",
        "  array_mc_token = np.array(list_last_tokens)\n",
        "  array_lm_label = np.array(list_lm_labels)\n",
        "  array_mc_label = np.array(list_mc_labels)\n",
        "\n",
        "  randomize = np.arange(4)\n",
        "  np.random.shuffle(randomize)\n",
        "\n",
        "  array_input_token = array_input_token[randomize]\n",
        "  array_segment = array_segment[randomize]\n",
        "  array_mc_token = array_mc_token[randomize]\n",
        "  array_lm_label = array_lm_label[randomize]\n",
        "  array_mc_label = array_mc_label[randomize]\n",
        "\n",
        "  return (array_input_token,array_segment,array_mc_token,array_lm_label,array_mc_label)"
      ],
      "execution_count": 0,
      "outputs": []
    },
    {
      "cell_type": "code",
      "metadata": {
        "id": "b6JTgJkxifn-",
        "colab_type": "code",
        "colab": {}
      },
      "source": [
        "def write_torch_tensor(np_batch):\n",
        "  torch_input_token = torch.tensor(np_batch[0], dtype=torch.long).unsqueeze(0)\n",
        "  torch_segment = torch.tensor(np_batch[1],dtype=torch.long).unsqueeze(0)\n",
        "  torch_mc_token = torch.tensor(np_batch[2],dtype=torch.long).unsqueeze(0)\n",
        "  torch_lm_label = torch.tensor(np_batch[3],dtype=torch.long).unsqueeze(0)\n",
        "  torch_mc_label = torch.tensor([np.argmax(np_batch[4])],dtype=torch.long).unsqueeze(0)\n",
        "  return (torch_input_token,torch_segment,torch_mc_token,torch_lm_label,torch_mc_label)"
      ],
      "execution_count": 0,
      "outputs": []
    },
    {
      "cell_type": "markdown",
      "metadata": {
        "id": "sPA8PLvBJibW",
        "colab_type": "text"
      },
      "source": [
        "# write a big function\n",
        "\n",
        "execute all 8 helper functions\n",
        "\n",
        "concatenate the temporary tensor object every 1000 items.\n",
        "\n",
        "This is done for the sake of time efficiency. concat tensor on a very long tensor takes a bit of time."
      ]
    },
    {
      "cell_type": "code",
      "metadata": {
        "id": "ah71Aw7jjZWC",
        "colab_type": "code",
        "colab": {}
      },
      "source": [
        "def execute_all_function(df):\n",
        "  exist_temp_tensor = False\n",
        "  exist_big_tensor = False\n",
        "  start = timeit.default_timer()\n",
        "  for num in range(len(df)):\n",
        "    #print(num)\n",
        "    word_tuple = load_words(df, num)\n",
        "    if type(word_tuple[0]) != str or type(word_tuple[1]) != str:\n",
        "      continue\n",
        "    \n",
        "    list_input_ids = write_input_ids(word_tuple)\n",
        "    list_type_labels = write_token_type_labels(list_input_ids)\n",
        "    list_lm_labels = write_lm_labels(list_input_ids,list_type_labels)\n",
        "    list_last_tokens = write_last_token(list_input_ids)\n",
        "    list_mc_labels = write_mc_label()\n",
        "\n",
        "    np_tuple = shuffle_batch(list_input_ids,list_type_labels,list_last_tokens,list_lm_labels,list_mc_labels)\n",
        "    tensor_tuple = write_torch_tensor(np_tuple)\n",
        "    \n",
        "    if not exist_temp_tensor:\n",
        "      temp_0 = tensor_tuple[0]\n",
        "      temp_1 = tensor_tuple[1]\n",
        "      temp_2 = tensor_tuple[2]\n",
        "      temp_3 = tensor_tuple[3]\n",
        "      temp_4 = tensor_tuple[4]\n",
        "      exist_temp_tensor = True\n",
        "    elif exist_temp_tensor:\n",
        "      temp_0 = torch.cat((temp_0,tensor_tuple[0]),0)\n",
        "      temp_1 = torch.cat((temp_1,tensor_tuple[1]),0)\n",
        "      temp_2 = torch.cat((temp_2,tensor_tuple[2]),0)\n",
        "      temp_3 = torch.cat((temp_3,tensor_tuple[3]),0)\n",
        "      temp_4 = torch.cat((temp_4,tensor_tuple[4]),0)\n",
        "\n",
        "    if num % 1000 == 0:\n",
        "      if not exist_big_tensor:\n",
        "        big_first_tensor = temp_0\n",
        "        big_second_tensor = temp_1\n",
        "        big_third_tensor = temp_2\n",
        "        big_fourth_tensor = temp_3\n",
        "        big_fifth_tensor = temp_4\n",
        "        exist_temp_tensor = False\n",
        "        exist_big_tensor = True\n",
        "        del temp_0,temp_1,temp_2,temp_3,temp_4\n",
        "      else:\n",
        "        big_first_tensor = torch.cat((big_first_tensor,temp_0),0)\n",
        "        big_second_tensor = torch.cat((big_second_tensor,temp_1),0)\n",
        "        big_third_tensor = torch.cat((big_third_tensor,temp_2),0)\n",
        "        big_fourth_tensor = torch.cat((big_fourth_tensor,temp_3),0)\n",
        "        big_fifth_tensor = torch.cat((big_fifth_tensor,temp_4),0)\n",
        "        exist_temp_tensor = False\n",
        "        del temp_0,temp_1,temp_2,temp_3,temp_4\n",
        "      \n",
        "      stop = timeit.default_timer()\n",
        "      print('iterations ',num,' takes ', stop - start,' sec')\n",
        "      start = timeit.default_timer()\n",
        "  \n",
        "  big_first_tensor = torch.cat((big_first_tensor,temp_0),0)\n",
        "  big_second_tensor = torch.cat((big_second_tensor,temp_1),0)\n",
        "  big_third_tensor = torch.cat((big_third_tensor,temp_2),0)\n",
        "  big_fourth_tensor = torch.cat((big_fourth_tensor,temp_3),0)\n",
        "  big_fifth_tensor = torch.cat((big_fifth_tensor,temp_4),0)\n",
        "  return big_first_tensor, big_second_tensor, big_third_tensor,big_fourth_tensor,big_fifth_tensor"
      ],
      "execution_count": 0,
      "outputs": []
    },
    {
      "cell_type": "code",
      "metadata": {
        "id": "8JELLn1VPncr",
        "colab_type": "code",
        "outputId": "8da74038-6401-4fba-cb0a-5065660c7459",
        "colab": {
          "base_uri": "https://localhost:8080/",
          "height": 84
        }
      },
      "source": [
        "tensor_1,tensor_2,tensor_3,tensor_4,tensor_5 = execute_all_function(frame_dev)"
      ],
      "execution_count": 0,
      "outputs": [
        {
          "output_type": "stream",
          "text": [
            "iterations  0  takes  0.021691910999834363  sec\n",
            "iterations  1000  takes  25.79339128399988  sec\n",
            "iterations  2000  takes  25.48767054900054  sec\n",
            "iterations  3000  takes  24.083790039000633  sec\n"
          ],
          "name": "stdout"
        }
      ]
    },
    {
      "cell_type": "markdown",
      "metadata": {
        "id": "LqpfBR3kdjl5",
        "colab_type": "text"
      },
      "source": [
        "1000 iterations take ~25 second\n",
        "\n",
        "that means 32k training set would take about 14 mins !"
      ]
    },
    {
      "cell_type": "code",
      "metadata": {
        "id": "rzppSKbIYYkf",
        "colab_type": "code",
        "colab": {}
      },
      "source": [
        "# create a tensor dataset object\n",
        "tensor_dataset = TensorDataset(tensor_1,tensor_2,tensor_3,tensor_4,tensor_5)"
      ],
      "execution_count": 0,
      "outputs": []
    },
    {
      "cell_type": "code",
      "metadata": {
        "id": "5kYP6q3bZDKV",
        "colab_type": "code",
        "colab": {}
      },
      "source": [
        "# save the tensor object to load later when training\n",
        "torch.save(tensor_dataset, 'torch_devFile_1_May07_2020.pt')"
      ],
      "execution_count": 0,
      "outputs": []
    },
    {
      "cell_type": "markdown",
      "metadata": {
        "id": "xmlytyNlYVjC",
        "colab_type": "text"
      },
      "source": [
        "# check your result by printing statement\n",
        "\n",
        "Make sure the labels are all correct and lined up"
      ]
    },
    {
      "cell_type": "code",
      "metadata": {
        "id": "b4BLgY4mb_-4",
        "colab_type": "code",
        "colab": {}
      },
      "source": [
        "tensor_5.numpy()"
      ],
      "execution_count": 0,
      "outputs": []
    },
    {
      "cell_type": "code",
      "metadata": {
        "id": "HMFEayWGTHz4",
        "colab_type": "code",
        "colab": {}
      },
      "source": [
        "item = 1515\n",
        "print(tensor_1[item])\n",
        "print(tensor_2[item])\n",
        "print(tensor_3[item])\n",
        "print(tensor_4[item])\n",
        "print(tensor_5[item])"
      ],
      "execution_count": 0,
      "outputs": []
    },
    {
      "cell_type": "code",
      "metadata": {
        "id": "o309CIOZUVSK",
        "colab_type": "code",
        "colab": {}
      },
      "source": [
        "print('{:>2}{:>10}{:>10}{:>10}{:>10}{:>20}{:>10}{:>20}{:>10}'.format('count','input','decoded input','input','decoded input','input','decoded input','input','decoded input'))\n",
        "count = 0\n",
        "for i,j,k,m in zip(tensor_1[item][1],tensor_1[item][2],tensor_2[item][2],tensor_4[item][2]):\n",
        "  i = int(i)\n",
        "  j = int(j)\n",
        "  k = int(k)\n",
        "  m = int(m)\n",
        "  if i == -100:\n",
        "    decode_i = 'masked'\n",
        "  else:\n",
        "    decode_i = tokenizer.decode(i)\n",
        "  if j == -100:\n",
        "    decode_j = 'masked'\n",
        "  else:\n",
        "    decode_j = tokenizer.decode(j)\n",
        "  if k == -100:\n",
        "    decode_k = 'masked'\n",
        "  else:\n",
        "    decode_k = tokenizer.decode(k)\n",
        "  if m == -100:\n",
        "    decode_m = 'masked'\n",
        "  else:\n",
        "    decode_m = tokenizer.decode(m)\n",
        "  #print(i,j)\n",
        "  print('{:>2}{:>10}{:>10}{:>10}{:>10}{:>20}{:>10}{:>20}{:>10}'.format(count,i,decode_i,j,decode_j,k,decode_k,m,decode_m))\n",
        "  count += 1"
      ],
      "execution_count": 0,
      "outputs": []
    }
  ]
}